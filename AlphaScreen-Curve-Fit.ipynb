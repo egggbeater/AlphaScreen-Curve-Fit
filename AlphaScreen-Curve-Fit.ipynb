{
 "cells": [
  {
   "cell_type": "code",
   "execution_count": 32,
   "id": "6fd1178c",
   "metadata": {},
   "outputs": [
    {
     "data": {
      "text/html": [
       "<div>\n",
       "<style scoped>\n",
       "    .dataframe tbody tr th:only-of-type {\n",
       "        vertical-align: middle;\n",
       "    }\n",
       "\n",
       "    .dataframe tbody tr th {\n",
       "        vertical-align: top;\n",
       "    }\n",
       "\n",
       "    .dataframe thead th {\n",
       "        text-align: right;\n",
       "    }\n",
       "</style>\n",
       "<table border=\"1\" class=\"dataframe\">\n",
       "  <thead>\n",
       "    <tr style=\"text-align: right;\">\n",
       "      <th></th>\n",
       "      <th>Conc.</th>\n",
       "      <th>Inhib A</th>\n",
       "      <th>Inhib B</th>\n",
       "    </tr>\n",
       "  </thead>\n",
       "  <tbody>\n",
       "    <tr>\n",
       "      <th>0</th>\n",
       "      <td>8.000</td>\n",
       "      <td>13563</td>\n",
       "      <td>5933</td>\n",
       "    </tr>\n",
       "    <tr>\n",
       "      <th>1</th>\n",
       "      <td>4.000</td>\n",
       "      <td>14441</td>\n",
       "      <td>7190</td>\n",
       "    </tr>\n",
       "    <tr>\n",
       "      <th>2</th>\n",
       "      <td>2.000</td>\n",
       "      <td>19999</td>\n",
       "      <td>11512</td>\n",
       "    </tr>\n",
       "    <tr>\n",
       "      <th>3</th>\n",
       "      <td>1.000</td>\n",
       "      <td>90286</td>\n",
       "      <td>121626</td>\n",
       "    </tr>\n",
       "    <tr>\n",
       "      <th>4</th>\n",
       "      <td>0.500</td>\n",
       "      <td>293569</td>\n",
       "      <td>271459</td>\n",
       "    </tr>\n",
       "    <tr>\n",
       "      <th>5</th>\n",
       "      <td>0.250</td>\n",
       "      <td>368015</td>\n",
       "      <td>357618</td>\n",
       "    </tr>\n",
       "    <tr>\n",
       "      <th>6</th>\n",
       "      <td>0.125</td>\n",
       "      <td>404802</td>\n",
       "      <td>455934</td>\n",
       "    </tr>\n",
       "    <tr>\n",
       "      <th>7</th>\n",
       "      <td>0.000</td>\n",
       "      <td>563470</td>\n",
       "      <td>522998</td>\n",
       "    </tr>\n",
       "  </tbody>\n",
       "</table>\n",
       "</div>"
      ],
      "text/plain": [
       "   Conc.  Inhib A  Inhib B\n",
       "0  8.000    13563     5933\n",
       "1  4.000    14441     7190\n",
       "2  2.000    19999    11512\n",
       "3  1.000    90286   121626\n",
       "4  0.500   293569   271459\n",
       "5  0.250   368015   357618\n",
       "6  0.125   404802   455934\n",
       "7  0.000   563470   522998"
      ]
     },
     "metadata": {},
     "output_type": "display_data"
    },
    {
     "name": "stdout",
     "output_type": "stream",
     "text": [
      "Inhib A IC50: 0.4934556116088376\n",
      "Inhib A 95% Confidence interval: [0.45645305]to [0.53045817]\n",
      "Inhib A R-squared: 0.98568158013037\n"
     ]
    },
    {
     "data": {
      "image/png": "[encoded data removed]",
      "text/plain": [
       "<Figure size 432x288 with 1 Axes>"
      ]
     },
     "metadata": {
      "needs_background": "light"
     },
     "output_type": "display_data"
    },
    {
     "name": "stdout",
     "output_type": "stream",
     "text": [
      "Inhib B IC50: 0.6017532538624983\n",
      "Inhib B 95% Confidence interval: [0.54356055]to [0.65994596]\n",
      "Inhib B R-squared: 0.9738639947945519\n"
     ]
    },
    {
     "data": {
      "image/png": "[encoded data removed]",
      "text/plain": [
       "<Figure size 432x288 with 1 Axes>"
      ]
     },
     "metadata": {
      "needs_background": "light"
     },
     "output_type": "display_data"
    }
   ],
   "source": [
    "# get packages\n",
    "import numpy as np\n",
    "import pandas as pd\n",
    "import matplotlib.pyplot as plt\n",
    "from scipy.optimize import curve_fit\n",
    "from scipy.stats.distributions import t\n",
    "\n",
    "# define model function\n",
    "def sigmoid(x, x0):\n",
    "    y = 100 / (1 + 10**(x - x0))\n",
    "    return y\n",
    "\n",
    "# extract data from Excel\n",
    "sheet = pd.read_excel('Input.xlsx', sheet_name='Sheet1')\n",
    "display(sheet)\n",
    "sheet_var = sheet.iloc[:,1:]\n",
    "\n",
    "xdata = sheet.iloc[:,0].to_numpy(np.float64)\n",
    "xdata = xdata[:-1]\n",
    "\n",
    "for column in sheet_var:\n",
    "    ydata0 = sheet_var[column].to_numpy(np.float64)\n",
    "    max_y = ydata0.max()\n",
    "    ydata0 = ydata0[:-1]\n",
    "             \n",
    "    # sigmoid curve fit\n",
    "    ydata = ydata0 * 100 / max_y\n",
    "    popt, pcov = curve_fit(sigmoid, xdata, ydata)\n",
    "    fit_parameter = str(popt[0])\n",
    "    print(column + \" IC50: \" + fit_parameter)\n",
    "\n",
    "    # 95% confidence interval\n",
    "    sigma_ab = np.sqrt(np.diagonal(pcov))\n",
    "    bound_upper = str(popt + sigma_ab)\n",
    "    bound_lower = str(popt - sigma_ab)\n",
    "    print(column + \" 95% Confidence interval: \"+ bound_lower + \"to \" + bound_upper)\n",
    "\n",
    "    # R-squared value\n",
    "    residuals = ydata- sigmoid(xdata, *popt)\n",
    "    ss_res = np.sum(residuals**2)\n",
    "    ss_tot = np.sum((ydata-np.mean(ydata))**2)\n",
    "    r_squared = str(1 - (ss_res / ss_tot))\n",
    "    print(column + \" R-squared: \"+ r_squared)\n",
    "\n",
    "    # graph data\n",
    "    x = np.linspace(0.1, 10, 500)\n",
    "    y = sigmoid(x, *popt)\n",
    " \n",
    "    # plot other stuff and display\n",
    "    plt.semilogx(xdata, ydata, 'o', label=column, color='green')\n",
    "    plt.semilogx(x,y, color='green')\n",
    "    plt.ylim(0, 105)\n",
    "    plt.legend(loc='best')\n",
    "    plt.hlines(y = 50, xmin = 0, xmax = 10, color='blue', linewidth=0.5, linestyle=':')\n",
    "    plt.show()\n"
   ]
  },
  {
   "cell_type": "code",
   "execution_count": null,
   "id": "6a8d31fe",
   "metadata": {},
   "outputs": [],
   "source": []
  }
 ],
 "metadata": {
  "kernelspec": {
   "display_name": "Python 3",
   "language": "python",
   "name": "python3"
  },
  "language_info": {
   "codemirror_mode": {
    "name": "ipython",
    "version": 3
   },
   "file_extension": ".py",
   "mimetype": "text/x-python",
   "name": "python",
   "nbconvert_exporter": "python",
   "pygments_lexer": "ipython3",
   "version": "3.8.8"
  }
 },
 "nbformat": 4,
 "nbformat_minor": 5
}
